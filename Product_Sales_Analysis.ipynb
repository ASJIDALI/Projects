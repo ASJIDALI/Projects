{
  "cells": [
    {
      "cell_type": "markdown",
      "metadata": {
        "id": "view-in-github",
        "colab_type": "text"
      },
      "source": [
        "<a href=\"https://colab.research.google.com/github/ASJIDALI/Projects/blob/main/Product_Sales_Analysis.ipynb\" target=\"_parent\"><img src=\"https://colab.research.google.com/assets/colab-badge.svg\" alt=\"Open In Colab\"/></a>"
      ]
    },
    {
      "cell_type": "markdown",
      "source": [
        "# **Product Sales Analysis**"
      ],
      "metadata": {
        "id": "9NvbuLQsoLXK"
      }
    },
    {
      "cell_type": "markdown",
      "source": [
        "\n",
        "> Monthly Profit Tracking: Calculates and logs each product's profit from the start of the month to the current day, enabling continuous performance monitoring.\n",
        "> Total Profit: Aggregates total profit for each product, offering a long-term view of profitability.\n",
        "> Current Stock Analysis: Displays up-to-date stock levels, helping to identify products with potential stock shortages or surpluses.\n",
        "> Pricing Insights: Tracks the highest and lowest prices offered for each product within the selected interval, assisting in pricing strategy refinement.\n",
        "> Procurement Actions: Identifies recommended procurement actions based on stock levels and profitability.\n",
        "> Sales Verification Status: Verifies sales records for accuracy and integrity, flagging items for review by the sales team if discrepancies are detected.\n",
        "\n",
        "> **Usage:**\n",
        "> This analysis can be implemented as part of an e-commerce sales dashboard, providing business teams with critical insights on product performance and inventory needs. Users can apply this project to any sales dataset with similar fields to gain a clearer understanding of daily product trends and long-term profitability.\n",
        "In sales data , you can see the columns\n",
        " ItemCode : unique code for the specific item\n",
        "\n",
        "*   ItemCode : unique code for the specific item\n",
        "*   ItemNAme : Name of the product\n",
        "*   Brand : Brand of the product\n",
        "*   Category ,Sub Category1, Sub Category2, Sub Categoory3 : This as category and the sub categories of the products , here we are using sub category 3 for the analysis.\n",
        "*   Date : Date of the transaction happened\n",
        "*   Sales Value: it is the regualr price of the product\n",
        "*   Profit: Profit from the product from that transaction\n",
        "*   Quantity : Quantity sold in that transaction for that specific product.\n",
        "*   Cost Value: Cost of the product\n",
        "*   ItemGroup: used to identify in which category product belong to , such as device , accessories, health ,etc\n",
        "*   Type:POS sale means its a retail sale and Corp Sale means its a wholesale sale , serivce means transaction for a particular service for any specific product.\n",
        "*   'Invoice Number', 'Customer', 'Sales Employee': These are not mainly used in this case of analysis , but we can used it to find the loyal customers and best perforemed staff , also useful to identify the recommendation a specific product that can be useful in a ecommerce site\n"
      ],
      "metadata": {
        "id": "qD7aTyVakPQV"
      }
    },
    {
      "cell_type": "markdown",
      "metadata": {
        "id": "dllts4kiyM7f"
      },
      "source": [
        "# Data Loading ,Engineering,Cleaning\n"
      ]
    },
    {
      "cell_type": "code",
      "execution_count": 1,
      "metadata": {
        "id": "mRX0KO1etLYX"
      },
      "outputs": [],
      "source": [
        "# from date and to date for make a intreval to know how much sales happened in each month in that interval\n",
        "from datetime import date, timedelta\n",
        "fromd=1\n",
        "tod=(date.today() - timedelta(days=1)).day"
      ]
    },
    {
      "cell_type": "code",
      "execution_count": 2,
      "metadata": {
        "id": "Br0PKZBRHKBs"
      },
      "outputs": [],
      "source": [
        "# importing required libraries\n",
        "import pandas as pd\n",
        "import numpy as np\n",
        "import matplotlib.pyplot as plt\n",
        "from datetime import datetime, timedelta\n",
        "pd.set_option('display.max_columns', None)\n",
        "pd.set_option('display.max_rows', None)\n",
        "pd.set_option('display.width', None)\n",
        "pd.set_option('display.max_colwidth', None)\n",
        "pd.set_option('display.float_format', '{:.2f}'.format)\n",
        "import warnings\n",
        "warnings.filterwarnings('ignore')"
      ]
    },
    {
      "cell_type": "code",
      "source": [
        "# to mail to the representives , importing libraries for mail\n",
        "import smtplib\n",
        "from email.mime.multipart import MIMEMultipart\n",
        "from email.mime.text import MIMEText\n",
        "from email.mime.base import MIMEBase\n",
        "from email import encoders\n",
        "import os"
      ],
      "metadata": {
        "id": "cGQONdJwWiGD"
      },
      "execution_count": 3,
      "outputs": []
    },
    {
      "cell_type": "code",
      "execution_count": 4,
      "metadata": {
        "id": "n2tTKaEWHKEU"
      },
      "outputs": [],
      "source": [
        "# df1 is sales from january to previous month and curr is the current month sales\n",
        "df1=pd.read_csv('https://docs.google.com/spreadsheets/d/1W-KrmwpF9gaLeMq9y15JxxQlnTyy-kYaQEr4-y8Bgc4/pub?gid=1294612192&single=true&output=csv', low_memory=False)\n",
        "cur=pd.read_csv('https://docs.google.com/spreadsheets/d/1q4cXYcpXsdJkR3DHOXBjPkFewmdQb8w_sR4toEIwC5w/pub?gid=0&single=true&output=csv', low_memory=False)"
      ]
    },
    {
      "cell_type": "code",
      "execution_count": 5,
      "metadata": {
        "id": "88fh9SBMNFWT"
      },
      "outputs": [],
      "source": [
        "# cleaning and give appropriate data type and concate previous and current sales report\n",
        "cur['Date'] = pd.to_datetime(cur['Date'], format='%d/%m/%Y')\n",
        "df=pd.concat([df1,cur],ignore_index=True)\n",
        "df['Date'] = pd.to_datetime(df['Date'])\n",
        "df.Profit=df.Profit.astype(float)"
      ]
    },
    {
      "cell_type": "code",
      "source": [
        "df.head()"
      ],
      "metadata": {
        "colab": {
          "base_uri": "https://localhost:8080/",
          "height": 452
        },
        "id": "MWPZeaVkotRF",
        "outputId": "5a6c4209-c62a-41bd-d2c4-df16656d908f"
      },
      "execution_count": 7,
      "outputs": [
        {
          "output_type": "execute_result",
          "data": {
            "text/plain": [
              "      Type Invoice Number   Customer       Sales Employee       Date     mont Category  \\\n",
              "0  Service       24000001     DENNIS  -No Sales Employee- 2024-01-01  January  SERVICE   \n",
              "1  Service       24000002     WAHEED  -No Sales Employee- 2024-01-01  January  SERVICE   \n",
              "2  Service       24000003  abrar ali  -No Sales Employee- 2024-01-01  January  SERVICE   \n",
              "3  Service       24000004       abid  -No Sales Employee- 2024-01-01  January  SERVICE   \n",
              "4  Service       24000005    joenard  -No Sales Employee- 2024-01-01  January  SERVICE   \n",
              "\n",
              "  Sub Category1 Sub Category2 Sub Category3 Sub Category4 ItemCode                      ItemName  \\\n",
              "0      HARDWARE           NaN           NaN           NaN       DS               DISPLAY SERVICE   \n",
              "1      HARDWARE           NaN           NaN           NaN       HS              HARDWARE SERVICE   \n",
              "2      HARDWARE           NaN           NaN           NaN     OEMD       OEM Display Replacement   \n",
              "3      HARDWARE           NaN           NaN           NaN       HS              HARDWARE SERVICE   \n",
              "4      HARDWARE           NaN           NaN           NaN     SGDR  S+ Grade Display Replacement   \n",
              "\n",
              "     ItemGroup Brand  Quantity                          Warehouse  Cost Value  Sales Value  \\\n",
              "0  CLICK N FIX   NaN         1  EZDAN WAKRAH-AL ANEES ELECTRONICS       28.00       140.00   \n",
              "1  CLICK N FIX   NaN         1  EZDAN WAKRAH-AL ANEES ELECTRONICS      156.09       350.00   \n",
              "2  CLICK N FIX   NaN         1       AL WATAN-AL ANEES TECHNOLOGY      558.00       660.00   \n",
              "3  CLICK N FIX   NaN         1       AL WATAN-AL ANEES TECHNOLOGY      110.00       490.00   \n",
              "4  CLICK N FIX   NaN         1       AL WATAN-AL ANEES TECHNOLOGY      130.00       270.00   \n",
              "\n",
              "   Profit  Margin %  \n",
              "0  112.00     80.00  \n",
              "1  193.91     55.40  \n",
              "2  102.00     15.45  \n",
              "3  380.00     77.55  \n",
              "4  140.00     51.85  "
            ],
            "text/html": [
              "\n",
              "  <div id=\"df-4824e64f-70c3-4ab5-8674-d80958d4742f\" class=\"colab-df-container\">\n",
              "    <div>\n",
              "<style scoped>\n",
              "    .dataframe tbody tr th:only-of-type {\n",
              "        vertical-align: middle;\n",
              "    }\n",
              "\n",
              "    .dataframe tbody tr th {\n",
              "        vertical-align: top;\n",
              "    }\n",
              "\n",
              "    .dataframe thead th {\n",
              "        text-align: right;\n",
              "    }\n",
              "</style>\n",
              "<table border=\"1\" class=\"dataframe\">\n",
              "  <thead>\n",
              "    <tr style=\"text-align: right;\">\n",
              "      <th></th>\n",
              "      <th>Type</th>\n",
              "      <th>Invoice Number</th>\n",
              "      <th>Customer</th>\n",
              "      <th>Sales Employee</th>\n",
              "      <th>Date</th>\n",
              "      <th>mont</th>\n",
              "      <th>Category</th>\n",
              "      <th>Sub Category1</th>\n",
              "      <th>Sub Category2</th>\n",
              "      <th>Sub Category3</th>\n",
              "      <th>Sub Category4</th>\n",
              "      <th>ItemCode</th>\n",
              "      <th>ItemName</th>\n",
              "      <th>ItemGroup</th>\n",
              "      <th>Brand</th>\n",
              "      <th>Quantity</th>\n",
              "      <th>Warehouse</th>\n",
              "      <th>Cost Value</th>\n",
              "      <th>Sales Value</th>\n",
              "      <th>Profit</th>\n",
              "      <th>Margin %</th>\n",
              "    </tr>\n",
              "  </thead>\n",
              "  <tbody>\n",
              "    <tr>\n",
              "      <th>0</th>\n",
              "      <td>Service</td>\n",
              "      <td>24000001</td>\n",
              "      <td>DENNIS</td>\n",
              "      <td>-No Sales Employee-</td>\n",
              "      <td>2024-01-01</td>\n",
              "      <td>January</td>\n",
              "      <td>SERVICE</td>\n",
              "      <td>HARDWARE</td>\n",
              "      <td>NaN</td>\n",
              "      <td>NaN</td>\n",
              "      <td>NaN</td>\n",
              "      <td>DS</td>\n",
              "      <td>DISPLAY SERVICE</td>\n",
              "      <td>CLICK N FIX</td>\n",
              "      <td>NaN</td>\n",
              "      <td>1</td>\n",
              "      <td>EZDAN WAKRAH-AL ANEES ELECTRONICS</td>\n",
              "      <td>28.00</td>\n",
              "      <td>140.00</td>\n",
              "      <td>112.00</td>\n",
              "      <td>80.00</td>\n",
              "    </tr>\n",
              "    <tr>\n",
              "      <th>1</th>\n",
              "      <td>Service</td>\n",
              "      <td>24000002</td>\n",
              "      <td>WAHEED</td>\n",
              "      <td>-No Sales Employee-</td>\n",
              "      <td>2024-01-01</td>\n",
              "      <td>January</td>\n",
              "      <td>SERVICE</td>\n",
              "      <td>HARDWARE</td>\n",
              "      <td>NaN</td>\n",
              "      <td>NaN</td>\n",
              "      <td>NaN</td>\n",
              "      <td>HS</td>\n",
              "      <td>HARDWARE SERVICE</td>\n",
              "      <td>CLICK N FIX</td>\n",
              "      <td>NaN</td>\n",
              "      <td>1</td>\n",
              "      <td>EZDAN WAKRAH-AL ANEES ELECTRONICS</td>\n",
              "      <td>156.09</td>\n",
              "      <td>350.00</td>\n",
              "      <td>193.91</td>\n",
              "      <td>55.40</td>\n",
              "    </tr>\n",
              "    <tr>\n",
              "      <th>2</th>\n",
              "      <td>Service</td>\n",
              "      <td>24000003</td>\n",
              "      <td>abrar ali</td>\n",
              "      <td>-No Sales Employee-</td>\n",
              "      <td>2024-01-01</td>\n",
              "      <td>January</td>\n",
              "      <td>SERVICE</td>\n",
              "      <td>HARDWARE</td>\n",
              "      <td>NaN</td>\n",
              "      <td>NaN</td>\n",
              "      <td>NaN</td>\n",
              "      <td>OEMD</td>\n",
              "      <td>OEM Display Replacement</td>\n",
              "      <td>CLICK N FIX</td>\n",
              "      <td>NaN</td>\n",
              "      <td>1</td>\n",
              "      <td>AL WATAN-AL ANEES TECHNOLOGY</td>\n",
              "      <td>558.00</td>\n",
              "      <td>660.00</td>\n",
              "      <td>102.00</td>\n",
              "      <td>15.45</td>\n",
              "    </tr>\n",
              "    <tr>\n",
              "      <th>3</th>\n",
              "      <td>Service</td>\n",
              "      <td>24000004</td>\n",
              "      <td>abid</td>\n",
              "      <td>-No Sales Employee-</td>\n",
              "      <td>2024-01-01</td>\n",
              "      <td>January</td>\n",
              "      <td>SERVICE</td>\n",
              "      <td>HARDWARE</td>\n",
              "      <td>NaN</td>\n",
              "      <td>NaN</td>\n",
              "      <td>NaN</td>\n",
              "      <td>HS</td>\n",
              "      <td>HARDWARE SERVICE</td>\n",
              "      <td>CLICK N FIX</td>\n",
              "      <td>NaN</td>\n",
              "      <td>1</td>\n",
              "      <td>AL WATAN-AL ANEES TECHNOLOGY</td>\n",
              "      <td>110.00</td>\n",
              "      <td>490.00</td>\n",
              "      <td>380.00</td>\n",
              "      <td>77.55</td>\n",
              "    </tr>\n",
              "    <tr>\n",
              "      <th>4</th>\n",
              "      <td>Service</td>\n",
              "      <td>24000005</td>\n",
              "      <td>joenard</td>\n",
              "      <td>-No Sales Employee-</td>\n",
              "      <td>2024-01-01</td>\n",
              "      <td>January</td>\n",
              "      <td>SERVICE</td>\n",
              "      <td>HARDWARE</td>\n",
              "      <td>NaN</td>\n",
              "      <td>NaN</td>\n",
              "      <td>NaN</td>\n",
              "      <td>SGDR</td>\n",
              "      <td>S+ Grade Display Replacement</td>\n",
              "      <td>CLICK N FIX</td>\n",
              "      <td>NaN</td>\n",
              "      <td>1</td>\n",
              "      <td>AL WATAN-AL ANEES TECHNOLOGY</td>\n",
              "      <td>130.00</td>\n",
              "      <td>270.00</td>\n",
              "      <td>140.00</td>\n",
              "      <td>51.85</td>\n",
              "    </tr>\n",
              "  </tbody>\n",
              "</table>\n",
              "</div>\n",
              "    <div class=\"colab-df-buttons\">\n",
              "\n",
              "  <div class=\"colab-df-container\">\n",
              "    <button class=\"colab-df-convert\" onclick=\"convertToInteractive('df-4824e64f-70c3-4ab5-8674-d80958d4742f')\"\n",
              "            title=\"Convert this dataframe to an interactive table.\"\n",
              "            style=\"display:none;\">\n",
              "\n",
              "  <svg xmlns=\"http://www.w3.org/2000/svg\" height=\"24px\" viewBox=\"0 -960 960 960\">\n",
              "    <path d=\"M120-120v-720h720v720H120Zm60-500h600v-160H180v160Zm220 220h160v-160H400v160Zm0 220h160v-160H400v160ZM180-400h160v-160H180v160Zm440 0h160v-160H620v160ZM180-180h160v-160H180v160Zm440 0h160v-160H620v160Z\"/>\n",
              "  </svg>\n",
              "    </button>\n",
              "\n",
              "  <style>\n",
              "    .colab-df-container {\n",
              "      display:flex;\n",
              "      gap: 12px;\n",
              "    }\n",
              "\n",
              "    .colab-df-convert {\n",
              "      background-color: #E8F0FE;\n",
              "      border: none;\n",
              "      border-radius: 50%;\n",
              "      cursor: pointer;\n",
              "      display: none;\n",
              "      fill: #1967D2;\n",
              "      height: 32px;\n",
              "      padding: 0 0 0 0;\n",
              "      width: 32px;\n",
              "    }\n",
              "\n",
              "    .colab-df-convert:hover {\n",
              "      background-color: #E2EBFA;\n",
              "      box-shadow: 0px 1px 2px rgba(60, 64, 67, 0.3), 0px 1px 3px 1px rgba(60, 64, 67, 0.15);\n",
              "      fill: #174EA6;\n",
              "    }\n",
              "\n",
              "    .colab-df-buttons div {\n",
              "      margin-bottom: 4px;\n",
              "    }\n",
              "\n",
              "    [theme=dark] .colab-df-convert {\n",
              "      background-color: #3B4455;\n",
              "      fill: #D2E3FC;\n",
              "    }\n",
              "\n",
              "    [theme=dark] .colab-df-convert:hover {\n",
              "      background-color: #434B5C;\n",
              "      box-shadow: 0px 1px 3px 1px rgba(0, 0, 0, 0.15);\n",
              "      filter: drop-shadow(0px 1px 2px rgba(0, 0, 0, 0.3));\n",
              "      fill: #FFFFFF;\n",
              "    }\n",
              "  </style>\n",
              "\n",
              "    <script>\n",
              "      const buttonEl =\n",
              "        document.querySelector('#df-4824e64f-70c3-4ab5-8674-d80958d4742f button.colab-df-convert');\n",
              "      buttonEl.style.display =\n",
              "        google.colab.kernel.accessAllowed ? 'block' : 'none';\n",
              "\n",
              "      async function convertToInteractive(key) {\n",
              "        const element = document.querySelector('#df-4824e64f-70c3-4ab5-8674-d80958d4742f');\n",
              "        const dataTable =\n",
              "          await google.colab.kernel.invokeFunction('convertToInteractive',\n",
              "                                                    [key], {});\n",
              "        if (!dataTable) return;\n",
              "\n",
              "        const docLinkHtml = 'Like what you see? Visit the ' +\n",
              "          '<a target=\"_blank\" href=https://colab.research.google.com/notebooks/data_table.ipynb>data table notebook</a>'\n",
              "          + ' to learn more about interactive tables.';\n",
              "        element.innerHTML = '';\n",
              "        dataTable['output_type'] = 'display_data';\n",
              "        await google.colab.output.renderOutput(dataTable, element);\n",
              "        const docLink = document.createElement('div');\n",
              "        docLink.innerHTML = docLinkHtml;\n",
              "        element.appendChild(docLink);\n",
              "      }\n",
              "    </script>\n",
              "  </div>\n",
              "\n",
              "\n",
              "<div id=\"df-90da514c-dd87-41f7-9aaf-d3afea554745\">\n",
              "  <button class=\"colab-df-quickchart\" onclick=\"quickchart('df-90da514c-dd87-41f7-9aaf-d3afea554745')\"\n",
              "            title=\"Suggest charts\"\n",
              "            style=\"display:none;\">\n",
              "\n",
              "<svg xmlns=\"http://www.w3.org/2000/svg\" height=\"24px\"viewBox=\"0 0 24 24\"\n",
              "     width=\"24px\">\n",
              "    <g>\n",
              "        <path d=\"M19 3H5c-1.1 0-2 .9-2 2v14c0 1.1.9 2 2 2h14c1.1 0 2-.9 2-2V5c0-1.1-.9-2-2-2zM9 17H7v-7h2v7zm4 0h-2V7h2v10zm4 0h-2v-4h2v4z\"/>\n",
              "    </g>\n",
              "</svg>\n",
              "  </button>\n",
              "\n",
              "<style>\n",
              "  .colab-df-quickchart {\n",
              "      --bg-color: #E8F0FE;\n",
              "      --fill-color: #1967D2;\n",
              "      --hover-bg-color: #E2EBFA;\n",
              "      --hover-fill-color: #174EA6;\n",
              "      --disabled-fill-color: #AAA;\n",
              "      --disabled-bg-color: #DDD;\n",
              "  }\n",
              "\n",
              "  [theme=dark] .colab-df-quickchart {\n",
              "      --bg-color: #3B4455;\n",
              "      --fill-color: #D2E3FC;\n",
              "      --hover-bg-color: #434B5C;\n",
              "      --hover-fill-color: #FFFFFF;\n",
              "      --disabled-bg-color: #3B4455;\n",
              "      --disabled-fill-color: #666;\n",
              "  }\n",
              "\n",
              "  .colab-df-quickchart {\n",
              "    background-color: var(--bg-color);\n",
              "    border: none;\n",
              "    border-radius: 50%;\n",
              "    cursor: pointer;\n",
              "    display: none;\n",
              "    fill: var(--fill-color);\n",
              "    height: 32px;\n",
              "    padding: 0;\n",
              "    width: 32px;\n",
              "  }\n",
              "\n",
              "  .colab-df-quickchart:hover {\n",
              "    background-color: var(--hover-bg-color);\n",
              "    box-shadow: 0 1px 2px rgba(60, 64, 67, 0.3), 0 1px 3px 1px rgba(60, 64, 67, 0.15);\n",
              "    fill: var(--button-hover-fill-color);\n",
              "  }\n",
              "\n",
              "  .colab-df-quickchart-complete:disabled,\n",
              "  .colab-df-quickchart-complete:disabled:hover {\n",
              "    background-color: var(--disabled-bg-color);\n",
              "    fill: var(--disabled-fill-color);\n",
              "    box-shadow: none;\n",
              "  }\n",
              "\n",
              "  .colab-df-spinner {\n",
              "    border: 2px solid var(--fill-color);\n",
              "    border-color: transparent;\n",
              "    border-bottom-color: var(--fill-color);\n",
              "    animation:\n",
              "      spin 1s steps(1) infinite;\n",
              "  }\n",
              "\n",
              "  @keyframes spin {\n",
              "    0% {\n",
              "      border-color: transparent;\n",
              "      border-bottom-color: var(--fill-color);\n",
              "      border-left-color: var(--fill-color);\n",
              "    }\n",
              "    20% {\n",
              "      border-color: transparent;\n",
              "      border-left-color: var(--fill-color);\n",
              "      border-top-color: var(--fill-color);\n",
              "    }\n",
              "    30% {\n",
              "      border-color: transparent;\n",
              "      border-left-color: var(--fill-color);\n",
              "      border-top-color: var(--fill-color);\n",
              "      border-right-color: var(--fill-color);\n",
              "    }\n",
              "    40% {\n",
              "      border-color: transparent;\n",
              "      border-right-color: var(--fill-color);\n",
              "      border-top-color: var(--fill-color);\n",
              "    }\n",
              "    60% {\n",
              "      border-color: transparent;\n",
              "      border-right-color: var(--fill-color);\n",
              "    }\n",
              "    80% {\n",
              "      border-color: transparent;\n",
              "      border-right-color: var(--fill-color);\n",
              "      border-bottom-color: var(--fill-color);\n",
              "    }\n",
              "    90% {\n",
              "      border-color: transparent;\n",
              "      border-bottom-color: var(--fill-color);\n",
              "    }\n",
              "  }\n",
              "</style>\n",
              "\n",
              "  <script>\n",
              "    async function quickchart(key) {\n",
              "      const quickchartButtonEl =\n",
              "        document.querySelector('#' + key + ' button');\n",
              "      quickchartButtonEl.disabled = true;  // To prevent multiple clicks.\n",
              "      quickchartButtonEl.classList.add('colab-df-spinner');\n",
              "      try {\n",
              "        const charts = await google.colab.kernel.invokeFunction(\n",
              "            'suggestCharts', [key], {});\n",
              "      } catch (error) {\n",
              "        console.error('Error during call to suggestCharts:', error);\n",
              "      }\n",
              "      quickchartButtonEl.classList.remove('colab-df-spinner');\n",
              "      quickchartButtonEl.classList.add('colab-df-quickchart-complete');\n",
              "    }\n",
              "    (() => {\n",
              "      let quickchartButtonEl =\n",
              "        document.querySelector('#df-90da514c-dd87-41f7-9aaf-d3afea554745 button');\n",
              "      quickchartButtonEl.style.display =\n",
              "        google.colab.kernel.accessAllowed ? 'block' : 'none';\n",
              "    })();\n",
              "  </script>\n",
              "</div>\n",
              "\n",
              "    </div>\n",
              "  </div>\n"
            ],
            "application/vnd.google.colaboratory.intrinsic+json": {
              "type": "dataframe",
              "variable_name": "df"
            }
          },
          "metadata": {},
          "execution_count": 7
        }
      ]
    },
    {
      "cell_type": "code",
      "execution_count": null,
      "metadata": {
        "id": "97fbaGrvno6H"
      },
      "outputs": [],
      "source": [
        "# loading stock report and make requied changes\n",
        "stock=pd.read_csv(\"https://docs.google.com/spreadsheets/d/1q4cXYcpXsdJkR3DHOXBjPkFewmdQb8w_sR4toEIwC5w/pub?gid=168637289&single=true&output=csv\",low_memory=False)\n",
        "stock.rename(columns={'Item No.':'ItemCode'},inplace=True)\n",
        "stock['ItemCode']=stock['ItemCode'].astype(str)\n",
        "stock['In Stock']=stock['In Stock'].astype(int)"
      ]
    },
    {
      "cell_type": "code",
      "execution_count": null,
      "metadata": {
        "id": "MF4mK4wKjy3Q"
      },
      "outputs": [],
      "source": [
        "# a display sheet name file include only  current trend items, used to give attractive offers\n",
        "disply=pd.read_csv('https://docs.google.com/spreadsheets/d/e/2PACX-1vQJLZvqDq7RSNJfNGzlNAl0mBYXOZE4umutSeuqm_7ekWNvOOdZu-3BQrF-PLE2dgg8oNKdIL43TP3C/pub?gid=1195549924&single=true&output=csv').iloc[:,[1,0]]\n",
        "disply.rename(columns={'Item No.':'ItemCode'},inplace=True)\n",
        "disply['ItemCode']=disply['ItemCode'].astype(str)\n",
        "disply.dropna(inplace=True)"
      ]
    },
    {
      "cell_type": "code",
      "execution_count": null,
      "metadata": {
        "colab": {
          "base_uri": "https://localhost:8080/"
        },
        "id": "S4D-cvEL-tpb",
        "outputId": "a19f1dfa-f827-492f-8f60-1bac9572998d"
      },
      "outputs": [
        {
          "output_type": "stream",
          "name": "stdout",
          "text": [
            "<class 'pandas.core.frame.DataFrame'>\n",
            "Index: 10658 entries, 0 to 10659\n",
            "Data columns (total 2 columns):\n",
            " #   Column    Non-Null Count  Dtype \n",
            "---  ------    --------------  ----- \n",
            " 0   ItemCode  10658 non-null  object\n",
            " 1   Ecom      10658 non-null  int64 \n",
            "dtypes: int64(1), object(1)\n",
            "memory usage: 249.8+ KB\n"
          ]
        }
      ],
      "source": [
        "# product list published in ecommerce site\n",
        "Ecom=pd.read_csv('https://docs.google.com/spreadsheets/d/e/2PACX-1vQJLZvqDq7RSNJfNGzlNAl0mBYXOZE4umutSeuqm_7ekWNvOOdZu-3BQrF-PLE2dgg8oNKdIL43TP3C/pub?gid=475798898&single=true&output=csv',low_memory=False)\n",
        "Ecom.dropna(inplace=True)\n",
        "Ecom.info()"
      ]
    },
    {
      "cell_type": "code",
      "execution_count": null,
      "metadata": {
        "colab": {
          "base_uri": "https://localhost:8080/",
          "height": 209
        },
        "id": "9-69sRPYNBxx",
        "outputId": "fc982ce1-3c4e-4d6d-88f5-cdefeb702a1e"
      },
      "outputs": [
        {
          "output_type": "execute_result",
          "data": {
            "text/plain": [
              "Sales\n",
              "True     8781\n",
              "False    1923\n",
              "_           6\n",
              "Name: count, dtype: int64"
            ],
            "text/html": [
              "<div>\n",
              "<style scoped>\n",
              "    .dataframe tbody tr th:only-of-type {\n",
              "        vertical-align: middle;\n",
              "    }\n",
              "\n",
              "    .dataframe tbody tr th {\n",
              "        vertical-align: top;\n",
              "    }\n",
              "\n",
              "    .dataframe thead th {\n",
              "        text-align: right;\n",
              "    }\n",
              "</style>\n",
              "<table border=\"1\" class=\"dataframe\">\n",
              "  <thead>\n",
              "    <tr style=\"text-align: right;\">\n",
              "      <th></th>\n",
              "      <th>count</th>\n",
              "    </tr>\n",
              "    <tr>\n",
              "      <th>Sales</th>\n",
              "      <th></th>\n",
              "    </tr>\n",
              "  </thead>\n",
              "  <tbody>\n",
              "    <tr>\n",
              "      <th>True</th>\n",
              "      <td>8781</td>\n",
              "    </tr>\n",
              "    <tr>\n",
              "      <th>False</th>\n",
              "      <td>1923</td>\n",
              "    </tr>\n",
              "    <tr>\n",
              "      <th>_</th>\n",
              "      <td>6</td>\n",
              "    </tr>\n",
              "  </tbody>\n",
              "</table>\n",
              "</div><br><label><b>dtype:</b> int64</label>"
            ]
          },
          "metadata": {},
          "execution_count": 10
        }
      ],
      "source": [
        "# loading data of procurment\n",
        "prcmnt=pd.read_csv('https://docs.google.com/spreadsheets/d/1q4cXYcpXsdJkR3DHOXBjPkFewmdQb8w_sR4toEIwC5w/pub?gid=1919807903&single=true&output=csv',low_memory=False)\n",
        "prcmnt.rename(columns={'ITEM CODE':'ItemCode'},inplace=True)\n",
        "prcmnt['ItemCode']=prcmnt['ItemCode'].astype(str)\n",
        "prcmnt.dropna(subset=['ItemCode','Date'],inplace=True)\n",
        "prcmnt['Date'].replace({'8/7/2024':'07-08-2024','8/15/2024':'15-08-2024','8/20/2024':'20-08-2024'},inplace=True)\n",
        "prcmnt['Date']=pd.to_datetime(prcmnt['Date'],format='%d-%m-%Y')\n",
        "prcmnt.rename(columns={'Date':'P.Date'},inplace=True)\n",
        "prcmnt.rename(columns={'Sales Team Confirmation':'Sales'},inplace=True)\n",
        "# prcmnt['Sales'].replace({'True':'Yes','False':'No'},inplace=True)\n",
        "prcmnt['ACTION'].fillna('_',inplace=True)\n",
        "prcmnt['REMARK'].fillna('_',inplace=True)\n",
        "prcmnt['Sales'].fillna('_',inplace=True)\n",
        "prcmnt.Sales.value_counts()"
      ]
    },
    {
      "cell_type": "code",
      "execution_count": null,
      "metadata": {
        "id": "feO2ugeLNC_Q"
      },
      "outputs": [],
      "source": [
        "prcmnt1=prcmnt.groupby('ItemCode').last().reset_index().copy()"
      ]
    },
    {
      "cell_type": "code",
      "execution_count": null,
      "metadata": {
        "id": "fhOQg5xUiIAk"
      },
      "outputs": [],
      "source": [
        "# extract latest name , subcategory, brand name used for the specific product\n",
        "latest_name=df.groupby('ItemCode').last().reset_index()[['ItemCode','ItemName']]\n",
        "latest_cat=df.groupby('ItemCode').last().reset_index()[['ItemCode','Sub Category3']]\n",
        "latest_brand=df.groupby('ItemCode').last().reset_index()[['ItemCode','Brand']]"
      ]
    },
    {
      "cell_type": "code",
      "execution_count": null,
      "metadata": {
        "id": "ezLJROdKqL8y"
      },
      "outputs": [],
      "source": [
        "# desfine function to clean and filter stock report\n",
        "\n",
        "def stock1(stock):\n",
        "  warehouses = [\"MANSOURA-AL ANEES ELECTRONICS\",\n",
        "      \"AL WATAN-AL ANEES TECHNOLOGY\",\n",
        "      \"BARWA LULU-AL ANEES ELECTRONICS\",\n",
        "      \"EZDAN WAKRAH-AL ANEES ELECTRONICS\",\n",
        "      \"GRANDMALL-AL ANEES ELECTRONICS\",\n",
        "      \"GULF MALL AL ANEES ELECTRONICS CO WLL\",\n",
        "      \"PLAZA MALL 220-AL ANEES ELECTRONICS\",\n",
        "      \"RAYYAN-AL ANEES COMMUNICATION\",\n",
        "      \"SHAHANIYA-AL ANEES ELECTRONICS\",\n",
        "      \"CITY CENTER AL ANEES ELECTRONICS\",\n",
        "      \"E-COMMERCE\",\n",
        "      \"METRO ALSADD AL ANEES\",\n",
        "      \"METRO MANSOURA AL-ANEES ELECTRONICS CO WLL\",\n",
        "      \"ABU SIDRA MALL AL ANEES\",\n",
        "      \"PHONE BOOTH DOHA FESTIVAL CITY\",\n",
        "      \"PHONE BOOTH MOQ SHOP1\",\n",
        "      \"PHONE BOOTH MSHEIREB DOWNTOWN\",\n",
        "      \"PHONE BOOTH PLACE VENDOME MALL\",\n",
        "      \"CENTRAL WAREHOUSE-AL ANEES ELECTRONICS\",\n",
        "      \"AL ANEES CENTRAL WAREHOUSE BIRKAT AL AWAMER\"]\n",
        "  fstock = stock[(stock['WhsName'].isin(warehouses))&(stock['ItmsGrpNam'].isin([\"ACCESSORIES\", \"CUSTOMIZED PRODUCTS\", \"DEVICES\", \"HEALTH & BEAUTY\", \"HOME & APPLIANCES\", \"LIFESTYLES\"]))]\n",
        "  pivot_table = fstock.pivot_table(index=['ItemCode','Item Description','Brand'],values='In Stock',aggfunc='sum',fill_value=0)\n",
        "  pivot_table\n",
        "  return pivot_table.reset_index()"
      ]
    },
    {
      "cell_type": "code",
      "execution_count": null,
      "metadata": {
        "colab": {
          "base_uri": "https://localhost:8080/"
        },
        "id": "n_cXM0pdja6E",
        "outputId": "d38612c8-0967-46ac-85b0-c11dac86b80f"
      },
      "outputs": [
        {
          "output_type": "execute_result",
          "data": {
            "text/plain": [
              "(7119, 2)"
            ]
          },
          "metadata": {},
          "execution_count": 16
        }
      ],
      "source": [
        "# calling the defined stock function\n",
        "stock12=stock1(stock).rename(columns={'Item Description':'ItemName'})[['ItemCode','In Stock']]\n",
        "# to know how much columns in cleaned stock report\n",
        "stock12.shape"
      ]
    },
    {
      "cell_type": "code",
      "execution_count": null,
      "metadata": {
        "collapsed": true,
        "id": "A_Fk0a0xHKJs"
      },
      "outputs": [],
      "source": [
        "# defining function for extraction required data from sales report , we need item code , item name , product category, product brand, profit in each month,\n",
        "# in a interval from beggining of the month to the current day to analyse the profit status of each month in the current situation\n",
        "def sales_summary_by_day_range(df, from_date, to_date):\n",
        "    df['Date'] = pd.to_datetime(df['Date'])\n",
        "    warehouses = [\"MANSOURA-AL ANEES ELECTRONICS\",\n",
        "    \"AL WATAN-AL ANEES TECHNOLOGY\",\n",
        "    \"BARWA LULU-AL ANEES ELECTRONICS\",\n",
        "    \"EZDAN WAKRAH-AL ANEES ELECTRONICS\",\n",
        "    \"GRANDMALL-AL ANEES ELECTRONICS\",\n",
        "    \"GULF MALL AL ANEES ELECTRONICS CO WLL\",\n",
        "    \"PLAZA MALL 220-AL ANEES ELECTRONICS\",\n",
        "    \"RAYYAN-AL ANEES COMMUNICATION\",\n",
        "    \"SHAHANIYA-AL ANEES ELECTRONICS\",\n",
        "    \"CITY CENTER AL ANEES ELECTRONICS\",\n",
        "    \"E-COMMERCE\",\n",
        "    \"METRO ALSADD AL ANEES\",\n",
        "    \"METRO MANSOURA AL-ANEES ELECTRONICS CO WLL\",\n",
        "    \"ABU SIDRA MALL AL ANEES\",\n",
        "    \"PHONE BOOTH OLD DOHA PORT\"\n",
        "    \"PHONE BOOTH DOHA FESTIVAL CITY\",\n",
        "    \"PHONE BOOTH MOQ SHOP1\",\n",
        "    \"PHONE BOOTH MSHEIREB DOWNTOWN\",\n",
        "    \"PHONE BOOTH PLACE VENDOME MALL\",\n",
        "    \"METRO LUSAIL AL ANEES\"]\n",
        "    filtered_df = df[(df['Date'].dt.day >= from_date) & (df['Date'].dt.day <= to_date)&(df['Type'].isin(['POS Sale', 'POS Return'])) &\n",
        "          (df['Warehouse'].isin(warehouses))].copy()\n",
        "    filtered_df['Month'] = filtered_df['Date'].dt.strftime('%B')\n",
        "    pivot_table = filtered_df.pivot_table(\n",
        "        index=['ItemCode'],\n",
        "        columns='Month',\n",
        "        values='Profit',\n",
        "        aggfunc='sum',\n",
        "        fill_value=0\n",
        "    )\n",
        "    pivot_table = pivot_table.reindex(columns=['January', 'February', 'March', 'April', 'May', 'June', 'July','August','September','October'], fill_value=0)\n",
        "    pivot_table['Total'] = pivot_table.sum(axis=1)\n",
        "    result = pivot_table.reset_index().sort_values(by='October', ascending=False)\n",
        "    result.rename(columns={'January': 'Jan', 'February': 'Feb', 'March': 'Mar', 'April': 'Apr', 'May': 'May', 'June': 'Jun', 'July': 'Jul', 'August': 'Aug','September':'Sept',\n",
        "                           'October':'Oct'}, inplace=True)\n",
        "    return result\n",
        "\n",
        "# defining fuction to highlight lowest and highest profit from the months , lowest will be coloured as red and highest will be colloured as green\n",
        "\n",
        "def highlight_min_max(row):\n",
        "    styles = []\n",
        "    numeric_cols = row.index[4:-10]  # Select columns from 'January' to 'August'\n",
        "    min_col = row.loc[numeric_cols].idxmin()\n",
        "    max_col = row.loc[numeric_cols].idxmax()\n",
        "    for col in row.index:\n",
        "        if col in ['ItemCode', 'ItemName', 'Total']:\n",
        "            styles.append('')\n",
        "        elif col == min_col:\n",
        "            styles.append('color: red; font-weight: bold;')  # Highlight minimum\n",
        "        elif col == max_col:\n",
        "            styles.append('color: green; font-weight: bold;') # Highlight maximum\n",
        "        else:\n",
        "            styles.append('')\n",
        "    return styles"
      ]
    },
    {
      "cell_type": "code",
      "execution_count": null,
      "metadata": {
        "collapsed": true,
        "id": "JyisNZFJqY1_"
      },
      "outputs": [],
      "source": [
        "# defin fuction to find maximum and minimum sale price offered for a product in the particular time period\n",
        "warehouses = [\"MANSOURA-AL ANEES ELECTRONICS\",\n",
        "    \"AL WATAN-AL ANEES TECHNOLOGY\",\n",
        "    \"BARWA LULU-AL ANEES ELECTRONICS\",\n",
        "    \"EZDAN WAKRAH-AL ANEES ELECTRONICS\",\n",
        "    \"GRANDMALL-AL ANEES ELECTRONICS\",\n",
        "    \"GULF MALL AL ANEES ELECTRONICS CO WLL\",\n",
        "    \"PLAZA MALL 220-AL ANEES ELECTRONICS\",\n",
        "    \"RAYYAN-AL ANEES COMMUNICATION\",\n",
        "    \"SHAHANIYA-AL ANEES ELECTRONICS\",\n",
        "    \"CITY CENTER AL ANEES ELECTRONICS\",\n",
        "    \"E-COMMERCE\",\n",
        "    \"METRO ALSADD AL ANEES\",\n",
        "    \"METRO MANSOURA AL-ANEES ELECTRONICS CO WLL\",\n",
        "    \"ABU SIDRA MALL AL ANEES\",\n",
        "    \"PHONE BOOTH OLD DOHA PORT\"\n",
        "    \"PHONE BOOTH DOHA FESTIVAL CITY\",\n",
        "    \"PHONE BOOTH MOQ SHOP1\",\n",
        "    \"PHONE BOOTH MSHEIREB DOWNTOWN\",\n",
        "    \"PHONE BOOTH PLACE VENDOME MALL\",\n",
        "    \"METRO LUSAIL AL ANEES\"]\n",
        "df2=df[(df['Quantity']==1)&(df['Type']=='POS Sale')&(df['Sales Value']!=0)]\n",
        "max_s=df2.groupby(['ItemCode'])['Sales Value'].max()\n",
        "min_s=df2.groupby(['ItemCode'])['Sales Value'].min()"
      ]
    },
    {
      "cell_type": "markdown",
      "metadata": {
        "id": "REf0UBVkis-y"
      },
      "source": [
        "**Sales Latest Updated Date**:\n",
        "\n"
      ]
    },
    {
      "cell_type": "code",
      "execution_count": null,
      "metadata": {
        "colab": {
          "base_uri": "https://localhost:8080/",
          "height": 54
        },
        "id": "CTXGT5S-jBFx",
        "outputId": "8d5c2031-10cb-447f-a911-9f2cd8559ef7"
      },
      "outputs": [
        {
          "output_type": "stream",
          "name": "stdout",
          "text": [
            "Latest Update\n"
          ]
        },
        {
          "output_type": "execute_result",
          "data": {
            "text/plain": [
              "'2024-10-30'"
            ],
            "application/vnd.google.colaboratory.intrinsic+json": {
              "type": "string"
            }
          },
          "metadata": {},
          "execution_count": 19
        }
      ],
      "source": [
        "# to know last updated date of sales data\n",
        "print('Latest Update')\n",
        "df['Date'].tail(1).iloc[0].strftime('%Y-%m-%d')"
      ]
    },
    {
      "cell_type": "markdown",
      "metadata": {
        "id": "tJEgVzQJkqg4"
      },
      "source": [
        "### Here merging and data engineering will be done\n"
      ]
    },
    {
      "cell_type": "code",
      "execution_count": null,
      "metadata": {
        "id": "72Vblw4hZkKd"
      },
      "outputs": [],
      "source": [
        "summary_df = sales_summary_by_day_range(df, fromd, tod)\n",
        "summary_df=summary_df.merge(latest_brand,on='ItemCode',how='left')\n",
        "summary_df=summary_df.merge(latest_name,on='ItemCode',how='left')\n",
        "summary_df=summary_df.merge(stock12,on=('ItemCode'),how='outer')\n",
        "summary_df=summary_df.merge(latest_cat,on='ItemCode',how='left')\n",
        "summary_df=summary_df.merge(disply,on='ItemCode',how='left')\n",
        "summary_df.rename(columns={'Shelf Code':'DS'},inplace=True)\n",
        "summary_df['DS']=summary_df['DS'].fillna('Not mentioned')\n",
        "summary_df=summary_df.merge(Ecom,on='ItemCode',how='left')\n",
        "summary_df['Ecom']=summary_df['Ecom'].fillna('Not listed')\n",
        "summary_df['Ecom'].replace({1.0:'Published'},inplace=True)\n",
        "summary_df=summary_df.merge(min_s,on='ItemCode',how='left')\n",
        "summary_df=summary_df.merge(max_s,on='ItemCode',how='left')\n",
        "summary_df.rename(columns={'Sales Value_x':'min_s','Sales Value_y':'max_s'},inplace=True)\n",
        "summary_df['Sub Category3']=summary_df['Sub Category3'].fillna('No Category')\n",
        "summary_df=summary_df.iloc[:,[0,13,-5,12,1,2,3,4,5,6,7,8,9,10,11,-6,-4,-3,-2,-1]]\n",
        "summary_df=summary_df.merge(prcmnt1,on='ItemCode',how='left')"
      ]
    },
    {
      "cell_type": "code",
      "execution_count": null,
      "metadata": {
        "colab": {
          "base_uri": "https://localhost:8080/"
        },
        "collapsed": true,
        "id": "l8b9b3CaZCIJ",
        "outputId": "0bad0ec6-76cc-49a6-8d2d-0d7d3540ffc1"
      },
      "outputs": [
        {
          "output_type": "execute_result",
          "data": {
            "text/plain": [
              "Index(['ItemCode', 'ItemName', 'Sub Category3', 'Brand', 'Jan', 'Feb', 'Mar', 'Apr', 'May', 'Jun',\n",
              "       'Jul', 'Aug', 'Sept', 'Oct', 'Total', 'In Stock', 'DS', 'Ecom', 'min_s', 'max_s', 'P.Date',\n",
              "       'Sales', 'ACTION', 'REMARK'],\n",
              "      dtype='object')"
            ]
          },
          "metadata": {},
          "execution_count": 21
        }
      ],
      "source": [
        "# to know the columns in the summary_df data\n",
        "summary_df.columns"
      ]
    },
    {
      "cell_type": "code",
      "execution_count": null,
      "metadata": {
        "id": "sy7whB3_MnxE"
      },
      "outputs": [],
      "source": [
        "# filling the data , for the item name not in sales report , but only in stock report , only not saled yet data will be replaced like this\n",
        "for index, row in summary_df.iterrows():\n",
        "    if pd.isna(row['ItemName']):\n",
        "        item_code = row['ItemCode']\n",
        "        # Look up item name from stock report\n",
        "        item_name = stock[stock['ItemCode'] == item_code]['Item Description'].values[0] if item_code in stock['ItemCode'].values else 'Not Found'\n",
        "        summary_df.at[index, 'ItemName'] = item_name\n",
        "        # Look up brand from stock report\n",
        "        brand = stock[stock['ItemCode'] == item_code]['Brand'].values[0] if item_code in stock['ItemCode'].values else 'Not Found'\n",
        "        summary_df.at[index, 'Brand'] = brand"
      ]
    },
    {
      "cell_type": "code",
      "execution_count": null,
      "metadata": {
        "id": "5f9DPI0ZNvfL"
      },
      "outputs": [],
      "source": [
        "summary_df[['Jan', 'Feb', 'Mar', 'Apr', 'May', 'Jun','Jul', 'Aug','Sept','Oct','Total','In Stock','min_s','max_s']]=summary_df[['Jan', 'Feb', 'Mar', 'Apr', 'May', 'Jun','Jul', 'Aug','Sept','Oct','Total', 'In Stock','min_s','max_s']].fillna(0)\n",
        "summary_df['In Stock']=summary_df['In Stock'].astype(int)\n",
        "summary_df['Brand']=summary_df['Brand'].fillna('Not found')\n",
        "summary_df.rename(columns={'ItemName':f'ItemName ({fromd}-{tod})'},inplace=True)"
      ]
    },
    {
      "cell_type": "code",
      "execution_count": null,
      "metadata": {
        "collapsed": true,
        "id": "tMrmFTDIT5mN"
      },
      "outputs": [],
      "source": [
        "summary_df=summary_df[(~summary_df[f'ItemName ({fromd}-{tod})'].str.contains('GIFT'))&(~summary_df[f'ItemName ({fromd}-{tod})'].str.contains('LDU'))&(~summary_df[f'ItemName ({fromd}-{tod})'].str.contains('AS IS'))&(~summary_df[f'ItemName ({fromd}-{tod})'].str.contains('USED'))]"
      ]
    },
    {
      "cell_type": "code",
      "execution_count": null,
      "metadata": {
        "id": "WsqFRPb6dZD3"
      },
      "outputs": [],
      "source": [
        "summary_df.sort_values(by='Oct',ascending=False,inplace=True)"
      ]
    },
    {
      "cell_type": "code",
      "source": [
        "summary_df.head(5)"
      ],
      "metadata": {
        "colab": {
          "base_uri": "https://localhost:8080/",
          "height": 521
        },
        "id": "FV8QZJB7rGrA",
        "outputId": "6e6a59e3-7e97-46d7-dc11-eae6431158d8"
      },
      "execution_count": null,
      "outputs": [
        {
          "output_type": "execute_result",
          "data": {
            "text/plain": [
              "       ItemCode                                          ItemName (1-30)   Sub Category3    Brand  \\\n",
              "1826  104102299          APPLE IPHONE 16 PRO MAX 256GB - DESERT TITANIUM      IOS PHONES    APPLE   \n",
              "133   104100155  APPLE IPHONE 15 PRO MAX 256GB - NATURAL TITANIUM(MU793)      IOS PHONES    APPLE   \n",
              "695   104100910     SAMSUNG GALAXY S24 ULTRA 5G 12/256GB - TITANIUM GRAY  ANDROID PHONES  SAMSUNG   \n",
              "692   104100907    SAMSUNG GALAXY S24 ULTRA 5G 12/256GB - TITANIUM BLACK  ANDROID PHONES  SAMSUNG   \n",
              "3687  105101967       SAMSUNG USB-C 25W POWER ADAPTER (EP-T2510) - WHITE           USB-C  SAMSUNG   \n",
              "\n",
              "          Jan      Feb      Mar      Apr     May      Jun      Jul      Aug     Sept      Oct  \\\n",
              "1826     0.00     0.00     0.00     0.00    0.00     0.00     0.00     0.00     0.00 85255.28   \n",
              "133  16669.42 40681.33 38319.40 24780.36 2475.09 11732.59 25565.58 18623.60  2361.00 25804.26   \n",
              "695   4112.00 10018.19  8993.60  6412.00 2410.33 10004.22 12769.15 15900.15 20062.00 22109.00   \n",
              "692   3595.00 15473.24  8907.98  6820.18 2366.13  8973.35 12320.05 16057.00 16418.00 19079.00   \n",
              "3687     0.00     0.00     0.00     0.00 3432.00 14097.00 14004.00 16775.50 16580.00 15594.50   \n",
              "\n",
              "         Total  In Stock       DS       Ecom   min_s   max_s     P.Date  Sales         ACTION  \\\n",
              "1826  85255.28         0  ONGOING  Published 5399.00 6069.00        NaT    NaN            NaN   \n",
              "133  207012.63        55  ONGOING  Published 4039.00 4999.00 2024-09-24   True              _   \n",
              "695  112790.64        46  ONGOING  Published 3260.00 5149.00 2024-09-05   True  Available Now   \n",
              "692  110009.93        52  ONGOING  Published 3279.00 5149.00 2024-08-19   True              _   \n",
              "3687  80483.00       453  ONGOING  Published   49.00   59.00 2024-09-10  False              _   \n",
              "\n",
              "     REMARK  \n",
              "1826    NaN  \n",
              "133       _  \n",
              "695       _  \n",
              "692       _  \n",
              "3687      _  "
            ],
            "text/html": [
              "\n",
              "  <div id=\"df-97204fbe-0553-404b-8642-e99ac630fe40\" class=\"colab-df-container\">\n",
              "    <div>\n",
              "<style scoped>\n",
              "    .dataframe tbody tr th:only-of-type {\n",
              "        vertical-align: middle;\n",
              "    }\n",
              "\n",
              "    .dataframe tbody tr th {\n",
              "        vertical-align: top;\n",
              "    }\n",
              "\n",
              "    .dataframe thead th {\n",
              "        text-align: right;\n",
              "    }\n",
              "</style>\n",
              "<table border=\"1\" class=\"dataframe\">\n",
              "  <thead>\n",
              "    <tr style=\"text-align: right;\">\n",
              "      <th></th>\n",
              "      <th>ItemCode</th>\n",
              "      <th>ItemName (1-30)</th>\n",
              "      <th>Sub Category3</th>\n",
              "      <th>Brand</th>\n",
              "      <th>Jan</th>\n",
              "      <th>Feb</th>\n",
              "      <th>Mar</th>\n",
              "      <th>Apr</th>\n",
              "      <th>May</th>\n",
              "      <th>Jun</th>\n",
              "      <th>Jul</th>\n",
              "      <th>Aug</th>\n",
              "      <th>Sept</th>\n",
              "      <th>Oct</th>\n",
              "      <th>Total</th>\n",
              "      <th>In Stock</th>\n",
              "      <th>DS</th>\n",
              "      <th>Ecom</th>\n",
              "      <th>min_s</th>\n",
              "      <th>max_s</th>\n",
              "      <th>P.Date</th>\n",
              "      <th>Sales</th>\n",
              "      <th>ACTION</th>\n",
              "      <th>REMARK</th>\n",
              "    </tr>\n",
              "  </thead>\n",
              "  <tbody>\n",
              "    <tr>\n",
              "      <th>1826</th>\n",
              "      <td>104102299</td>\n",
              "      <td>APPLE IPHONE 16 PRO MAX 256GB - DESERT TITANIUM</td>\n",
              "      <td>IOS PHONES</td>\n",
              "      <td>APPLE</td>\n",
              "      <td>0.00</td>\n",
              "      <td>0.00</td>\n",
              "      <td>0.00</td>\n",
              "      <td>0.00</td>\n",
              "      <td>0.00</td>\n",
              "      <td>0.00</td>\n",
              "      <td>0.00</td>\n",
              "      <td>0.00</td>\n",
              "      <td>0.00</td>\n",
              "      <td>85255.28</td>\n",
              "      <td>85255.28</td>\n",
              "      <td>0</td>\n",
              "      <td>ONGOING</td>\n",
              "      <td>Published</td>\n",
              "      <td>5399.00</td>\n",
              "      <td>6069.00</td>\n",
              "      <td>NaT</td>\n",
              "      <td>NaN</td>\n",
              "      <td>NaN</td>\n",
              "      <td>NaN</td>\n",
              "    </tr>\n",
              "    <tr>\n",
              "      <th>133</th>\n",
              "      <td>104100155</td>\n",
              "      <td>APPLE IPHONE 15 PRO MAX 256GB - NATURAL TITANIUM(MU793)</td>\n",
              "      <td>IOS PHONES</td>\n",
              "      <td>APPLE</td>\n",
              "      <td>16669.42</td>\n",
              "      <td>40681.33</td>\n",
              "      <td>38319.40</td>\n",
              "      <td>24780.36</td>\n",
              "      <td>2475.09</td>\n",
              "      <td>11732.59</td>\n",
              "      <td>25565.58</td>\n",
              "      <td>18623.60</td>\n",
              "      <td>2361.00</td>\n",
              "      <td>25804.26</td>\n",
              "      <td>207012.63</td>\n",
              "      <td>55</td>\n",
              "      <td>ONGOING</td>\n",
              "      <td>Published</td>\n",
              "      <td>4039.00</td>\n",
              "      <td>4999.00</td>\n",
              "      <td>2024-09-24</td>\n",
              "      <td>True</td>\n",
              "      <td>_</td>\n",
              "      <td>_</td>\n",
              "    </tr>\n",
              "    <tr>\n",
              "      <th>695</th>\n",
              "      <td>104100910</td>\n",
              "      <td>SAMSUNG GALAXY S24 ULTRA 5G 12/256GB - TITANIUM GRAY</td>\n",
              "      <td>ANDROID PHONES</td>\n",
              "      <td>SAMSUNG</td>\n",
              "      <td>4112.00</td>\n",
              "      <td>10018.19</td>\n",
              "      <td>8993.60</td>\n",
              "      <td>6412.00</td>\n",
              "      <td>2410.33</td>\n",
              "      <td>10004.22</td>\n",
              "      <td>12769.15</td>\n",
              "      <td>15900.15</td>\n",
              "      <td>20062.00</td>\n",
              "      <td>22109.00</td>\n",
              "      <td>112790.64</td>\n",
              "      <td>46</td>\n",
              "      <td>ONGOING</td>\n",
              "      <td>Published</td>\n",
              "      <td>3260.00</td>\n",
              "      <td>5149.00</td>\n",
              "      <td>2024-09-05</td>\n",
              "      <td>True</td>\n",
              "      <td>Available Now</td>\n",
              "      <td>_</td>\n",
              "    </tr>\n",
              "    <tr>\n",
              "      <th>692</th>\n",
              "      <td>104100907</td>\n",
              "      <td>SAMSUNG GALAXY S24 ULTRA 5G 12/256GB - TITANIUM BLACK</td>\n",
              "      <td>ANDROID PHONES</td>\n",
              "      <td>SAMSUNG</td>\n",
              "      <td>3595.00</td>\n",
              "      <td>15473.24</td>\n",
              "      <td>8907.98</td>\n",
              "      <td>6820.18</td>\n",
              "      <td>2366.13</td>\n",
              "      <td>8973.35</td>\n",
              "      <td>12320.05</td>\n",
              "      <td>16057.00</td>\n",
              "      <td>16418.00</td>\n",
              "      <td>19079.00</td>\n",
              "      <td>110009.93</td>\n",
              "      <td>52</td>\n",
              "      <td>ONGOING</td>\n",
              "      <td>Published</td>\n",
              "      <td>3279.00</td>\n",
              "      <td>5149.00</td>\n",
              "      <td>2024-08-19</td>\n",
              "      <td>True</td>\n",
              "      <td>_</td>\n",
              "      <td>_</td>\n",
              "    </tr>\n",
              "    <tr>\n",
              "      <th>3687</th>\n",
              "      <td>105101967</td>\n",
              "      <td>SAMSUNG USB-C 25W POWER ADAPTER (EP-T2510) - WHITE</td>\n",
              "      <td>USB-C</td>\n",
              "      <td>SAMSUNG</td>\n",
              "      <td>0.00</td>\n",
              "      <td>0.00</td>\n",
              "      <td>0.00</td>\n",
              "      <td>0.00</td>\n",
              "      <td>3432.00</td>\n",
              "      <td>14097.00</td>\n",
              "      <td>14004.00</td>\n",
              "      <td>16775.50</td>\n",
              "      <td>16580.00</td>\n",
              "      <td>15594.50</td>\n",
              "      <td>80483.00</td>\n",
              "      <td>453</td>\n",
              "      <td>ONGOING</td>\n",
              "      <td>Published</td>\n",
              "      <td>49.00</td>\n",
              "      <td>59.00</td>\n",
              "      <td>2024-09-10</td>\n",
              "      <td>False</td>\n",
              "      <td>_</td>\n",
              "      <td>_</td>\n",
              "    </tr>\n",
              "  </tbody>\n",
              "</table>\n",
              "</div>\n",
              "    <div class=\"colab-df-buttons\">\n",
              "\n",
              "  <div class=\"colab-df-container\">\n",
              "    <button class=\"colab-df-convert\" onclick=\"convertToInteractive('df-97204fbe-0553-404b-8642-e99ac630fe40')\"\n",
              "            title=\"Convert this dataframe to an interactive table.\"\n",
              "            style=\"display:none;\">\n",
              "\n",
              "  <svg xmlns=\"http://www.w3.org/2000/svg\" height=\"24px\" viewBox=\"0 -960 960 960\">\n",
              "    <path d=\"M120-120v-720h720v720H120Zm60-500h600v-160H180v160Zm220 220h160v-160H400v160Zm0 220h160v-160H400v160ZM180-400h160v-160H180v160Zm440 0h160v-160H620v160ZM180-180h160v-160H180v160Zm440 0h160v-160H620v160Z\"/>\n",
              "  </svg>\n",
              "    </button>\n",
              "\n",
              "  <style>\n",
              "    .colab-df-container {\n",
              "      display:flex;\n",
              "      gap: 12px;\n",
              "    }\n",
              "\n",
              "    .colab-df-convert {\n",
              "      background-color: #E8F0FE;\n",
              "      border: none;\n",
              "      border-radius: 50%;\n",
              "      cursor: pointer;\n",
              "      display: none;\n",
              "      fill: #1967D2;\n",
              "      height: 32px;\n",
              "      padding: 0 0 0 0;\n",
              "      width: 32px;\n",
              "    }\n",
              "\n",
              "    .colab-df-convert:hover {\n",
              "      background-color: #E2EBFA;\n",
              "      box-shadow: 0px 1px 2px rgba(60, 64, 67, 0.3), 0px 1px 3px 1px rgba(60, 64, 67, 0.15);\n",
              "      fill: #174EA6;\n",
              "    }\n",
              "\n",
              "    .colab-df-buttons div {\n",
              "      margin-bottom: 4px;\n",
              "    }\n",
              "\n",
              "    [theme=dark] .colab-df-convert {\n",
              "      background-color: #3B4455;\n",
              "      fill: #D2E3FC;\n",
              "    }\n",
              "\n",
              "    [theme=dark] .colab-df-convert:hover {\n",
              "      background-color: #434B5C;\n",
              "      box-shadow: 0px 1px 3px 1px rgba(0, 0, 0, 0.15);\n",
              "      filter: drop-shadow(0px 1px 2px rgba(0, 0, 0, 0.3));\n",
              "      fill: #FFFFFF;\n",
              "    }\n",
              "  </style>\n",
              "\n",
              "    <script>\n",
              "      const buttonEl =\n",
              "        document.querySelector('#df-97204fbe-0553-404b-8642-e99ac630fe40 button.colab-df-convert');\n",
              "      buttonEl.style.display =\n",
              "        google.colab.kernel.accessAllowed ? 'block' : 'none';\n",
              "\n",
              "      async function convertToInteractive(key) {\n",
              "        const element = document.querySelector('#df-97204fbe-0553-404b-8642-e99ac630fe40');\n",
              "        const dataTable =\n",
              "          await google.colab.kernel.invokeFunction('convertToInteractive',\n",
              "                                                    [key], {});\n",
              "        if (!dataTable) return;\n",
              "\n",
              "        const docLinkHtml = 'Like what you see? Visit the ' +\n",
              "          '<a target=\"_blank\" href=https://colab.research.google.com/notebooks/data_table.ipynb>data table notebook</a>'\n",
              "          + ' to learn more about interactive tables.';\n",
              "        element.innerHTML = '';\n",
              "        dataTable['output_type'] = 'display_data';\n",
              "        await google.colab.output.renderOutput(dataTable, element);\n",
              "        const docLink = document.createElement('div');\n",
              "        docLink.innerHTML = docLinkHtml;\n",
              "        element.appendChild(docLink);\n",
              "      }\n",
              "    </script>\n",
              "  </div>\n",
              "\n",
              "\n",
              "<div id=\"df-394c1443-9b14-4def-aed4-a88de20f3313\">\n",
              "  <button class=\"colab-df-quickchart\" onclick=\"quickchart('df-394c1443-9b14-4def-aed4-a88de20f3313')\"\n",
              "            title=\"Suggest charts\"\n",
              "            style=\"display:none;\">\n",
              "\n",
              "<svg xmlns=\"http://www.w3.org/2000/svg\" height=\"24px\"viewBox=\"0 0 24 24\"\n",
              "     width=\"24px\">\n",
              "    <g>\n",
              "        <path d=\"M19 3H5c-1.1 0-2 .9-2 2v14c0 1.1.9 2 2 2h14c1.1 0 2-.9 2-2V5c0-1.1-.9-2-2-2zM9 17H7v-7h2v7zm4 0h-2V7h2v10zm4 0h-2v-4h2v4z\"/>\n",
              "    </g>\n",
              "</svg>\n",
              "  </button>\n",
              "\n",
              "<style>\n",
              "  .colab-df-quickchart {\n",
              "      --bg-color: #E8F0FE;\n",
              "      --fill-color: #1967D2;\n",
              "      --hover-bg-color: #E2EBFA;\n",
              "      --hover-fill-color: #174EA6;\n",
              "      --disabled-fill-color: #AAA;\n",
              "      --disabled-bg-color: #DDD;\n",
              "  }\n",
              "\n",
              "  [theme=dark] .colab-df-quickchart {\n",
              "      --bg-color: #3B4455;\n",
              "      --fill-color: #D2E3FC;\n",
              "      --hover-bg-color: #434B5C;\n",
              "      --hover-fill-color: #FFFFFF;\n",
              "      --disabled-bg-color: #3B4455;\n",
              "      --disabled-fill-color: #666;\n",
              "  }\n",
              "\n",
              "  .colab-df-quickchart {\n",
              "    background-color: var(--bg-color);\n",
              "    border: none;\n",
              "    border-radius: 50%;\n",
              "    cursor: pointer;\n",
              "    display: none;\n",
              "    fill: var(--fill-color);\n",
              "    height: 32px;\n",
              "    padding: 0;\n",
              "    width: 32px;\n",
              "  }\n",
              "\n",
              "  .colab-df-quickchart:hover {\n",
              "    background-color: var(--hover-bg-color);\n",
              "    box-shadow: 0 1px 2px rgba(60, 64, 67, 0.3), 0 1px 3px 1px rgba(60, 64, 67, 0.15);\n",
              "    fill: var(--button-hover-fill-color);\n",
              "  }\n",
              "\n",
              "  .colab-df-quickchart-complete:disabled,\n",
              "  .colab-df-quickchart-complete:disabled:hover {\n",
              "    background-color: var(--disabled-bg-color);\n",
              "    fill: var(--disabled-fill-color);\n",
              "    box-shadow: none;\n",
              "  }\n",
              "\n",
              "  .colab-df-spinner {\n",
              "    border: 2px solid var(--fill-color);\n",
              "    border-color: transparent;\n",
              "    border-bottom-color: var(--fill-color);\n",
              "    animation:\n",
              "      spin 1s steps(1) infinite;\n",
              "  }\n",
              "\n",
              "  @keyframes spin {\n",
              "    0% {\n",
              "      border-color: transparent;\n",
              "      border-bottom-color: var(--fill-color);\n",
              "      border-left-color: var(--fill-color);\n",
              "    }\n",
              "    20% {\n",
              "      border-color: transparent;\n",
              "      border-left-color: var(--fill-color);\n",
              "      border-top-color: var(--fill-color);\n",
              "    }\n",
              "    30% {\n",
              "      border-color: transparent;\n",
              "      border-left-color: var(--fill-color);\n",
              "      border-top-color: var(--fill-color);\n",
              "      border-right-color: var(--fill-color);\n",
              "    }\n",
              "    40% {\n",
              "      border-color: transparent;\n",
              "      border-right-color: var(--fill-color);\n",
              "      border-top-color: var(--fill-color);\n",
              "    }\n",
              "    60% {\n",
              "      border-color: transparent;\n",
              "      border-right-color: var(--fill-color);\n",
              "    }\n",
              "    80% {\n",
              "      border-color: transparent;\n",
              "      border-right-color: var(--fill-color);\n",
              "      border-bottom-color: var(--fill-color);\n",
              "    }\n",
              "    90% {\n",
              "      border-color: transparent;\n",
              "      border-bottom-color: var(--fill-color);\n",
              "    }\n",
              "  }\n",
              "</style>\n",
              "\n",
              "  <script>\n",
              "    async function quickchart(key) {\n",
              "      const quickchartButtonEl =\n",
              "        document.querySelector('#' + key + ' button');\n",
              "      quickchartButtonEl.disabled = true;  // To prevent multiple clicks.\n",
              "      quickchartButtonEl.classList.add('colab-df-spinner');\n",
              "      try {\n",
              "        const charts = await google.colab.kernel.invokeFunction(\n",
              "            'suggestCharts', [key], {});\n",
              "      } catch (error) {\n",
              "        console.error('Error during call to suggestCharts:', error);\n",
              "      }\n",
              "      quickchartButtonEl.classList.remove('colab-df-spinner');\n",
              "      quickchartButtonEl.classList.add('colab-df-quickchart-complete');\n",
              "    }\n",
              "    (() => {\n",
              "      let quickchartButtonEl =\n",
              "        document.querySelector('#df-394c1443-9b14-4def-aed4-a88de20f3313 button');\n",
              "      quickchartButtonEl.style.display =\n",
              "        google.colab.kernel.accessAllowed ? 'block' : 'none';\n",
              "    })();\n",
              "  </script>\n",
              "</div>\n",
              "\n",
              "    </div>\n",
              "  </div>\n"
            ],
            "application/vnd.google.colaboratory.intrinsic+json": {
              "type": "dataframe",
              "variable_name": "summary_df"
            }
          },
          "metadata": {},
          "execution_count": 26
        }
      ]
    },
    {
      "cell_type": "code",
      "execution_count": null,
      "metadata": {
        "collapsed": true,
        "id": "ts9Qp9RlTHtF"
      },
      "outputs": [],
      "source": [
        "# apply the defined formatting function to identify maximum and minimum value easly\n",
        "numeric_columns=['Jan','Feb','Mar','Apr','May','Jun','Jul','Aug','Sept','Oct','Total','min_s','max_s']\n",
        "styled_df = summary_df.style.apply(highlight_min_max, axis=1).format(\"{:.2f}\", subset=numeric_columns).format(\"{:.0f}\", subset='In Stock')"
      ]
    },
    {
      "cell_type": "code",
      "execution_count": null,
      "metadata": {
        "collapsed": true,
        "id": "swqzBPU9WUfe"
      },
      "outputs": [],
      "source": [
        "# this will dislay in the colour formated version\n",
        "display(styled_df)"
      ]
    },
    {
      "cell_type": "markdown",
      "metadata": {
        "id": "WXija7RzlAxx"
      },
      "source": [
        "# Which are lowest Saled product in August with respect to remaining month in 2024"
      ]
    },
    {
      "cell_type": "code",
      "execution_count": null,
      "metadata": {
        "collapsed": true,
        "id": "DOIPsbxFVPKv"
      },
      "outputs": [],
      "source": [
        "# summary_df1=summary_df.copy()\n",
        "# summary_df1['Min_Value'] = summary_df1.loc[:, 'Jan':'Jul'].min(axis=1)\n",
        "# summary_df1['Min_Month'] = summary_df1.loc[:, 'Jan':'Jul'].idxmin(axis=1)\n",
        "# min_august_products = summary_df1[summary_df1['Min_Value'] > summary_df1['Aug']]\n",
        "# result_df = min_august_products[['ItemCode',f'ItemName ({fromd}-{tod})', 'Min_Month', 'Min_Value', 'Aug']]"
      ]
    },
    {
      "cell_type": "markdown",
      "metadata": {
        "id": "zASeLe3qZKRM"
      },
      "source": [
        "\n",
        "**To Download extraxted  insight**"
      ]
    },
    {
      "cell_type": "code",
      "execution_count": null,
      "metadata": {
        "collapsed": true,
        "id": "xFiBui3-onq3"
      },
      "outputs": [],
      "source": [
        "styled_df.to_excel(f'Product Analysis {fromd}-{tod}.xlsx', index=False)"
      ]
    },
    {
      "cell_type": "markdown",
      "source": [
        "# defining function to mail the data"
      ],
      "metadata": {
        "id": "Dr1XcdmdVLci"
      }
    },
    {
      "cell_type": "code",
      "source": [
        "# @title\n",
        "def send_email(sender_email, receiver_email, cc_email, subject, body, attachment_path):\n",
        "  \"\"\"Sends an email with an optional attachment.\"\"\"\n",
        "  msg = MIMEMultipart()\n",
        "  msg['From'] = sender_email\n",
        "  msg['To'] = ', '.join(receiver_email)\n",
        "  msg['Cc'] = ', '.join(cc_email)\n",
        "  msg['Subject'] = subject\n",
        "\n",
        "  msg.attach(MIMEText(body, 'plain'))\n",
        "\n",
        "  if attachment_path and os.path.exists(attachment_path):\n",
        "    with open(attachment_path, \"rb\") as attachment:\n",
        "      part = MIMEBase('application', 'octet-stream')\n",
        "      part.set_payload(attachment.read())\n",
        "    encoders.encode_base64(part)\n",
        "    part.add_header(\n",
        "        'Content-Disposition',\n",
        "        f\"attachment; filename= {os.path.basename(attachment_path)}\",\n",
        "    )\n",
        "    msg.attach(part)\n",
        "\n",
        "  try:\n",
        "    server = smtplib.SMTP_SSL('smtp.zoho.com', 465)\n",
        "    server.login(sender_email, 'n6sZNfR')\n",
        "    text = msg.as_string()\n",
        "    server.sendmail(sender_email, receiver_email + [cc_email], text)\n",
        "    server.quit()\n",
        "    print(\"Email sent successfully!\")\n",
        "  except Exception as e:\n",
        "    print(f\"Error sending email: {e}\")"
      ],
      "metadata": {
        "id": "IlJBvKTlTv1i"
      },
      "execution_count": null,
      "outputs": []
    },
    {
      "cell_type": "code",
      "source": [
        "# @title applt the defined fuction to send mail\n",
        "sender_email = 'asjidack@gmail.com'\n",
        "receiver_email = ['aewgfrg@gmail.com','eefff@gmail.com','afeafdaef@gmail.com']\n",
        "cc_email = ['fghfghc@gamil.com','siftx@gmail.com']\n",
        "subject = 'Overall Product Analysis'\n",
        "body = \"Dear Team,\\n\\nI have attached Overall Product Analysis.\\n\\n Thanks & Regards. \\nAsjid Ali\\n Data Analyst , Data Team , Al Anees Electronics\"\n",
        "attachment_path = f'Product Analysis {fromd}-{tod}.xlsx'\n",
        "\n",
        "send_email(sender_email, receiver_email, cc_email, subject, body, attachment_path)"
      ],
      "metadata": {
        "id": "Wk1VRMbCVFw7",
        "colab": {
          "base_uri": "https://localhost:8080/"
        },
        "outputId": "53712a02-2883-4035-e468-5c184326f707"
      },
      "execution_count": null,
      "outputs": [
        {
          "output_type": "stream",
          "name": "stdout",
          "text": [
            "Email sent successfully!\n"
          ]
        }
      ]
    },
    {
      "cell_type": "code",
      "execution_count": null,
      "metadata": {
        "colab": {
          "base_uri": "https://localhost:8080/"
        },
        "id": "0b-gMKgXUKxa",
        "outputId": "c74d6130-9667-4750-9419-e4b19086a278"
      },
      "outputs": [
        {
          "output_type": "stream",
          "name": "stdout",
          "text": [
            "Mounted at /content/drive\n"
          ]
        }
      ],
      "source": [
        "# connecting to the google drive\n",
        "from google.colab import drive\n",
        "drive.mount('/content/drive')"
      ]
    },
    {
      "cell_type": "code",
      "execution_count": null,
      "metadata": {
        "colab": {
          "base_uri": "https://localhost:8080/"
        },
        "id": "lC55Fsa9mYxo",
        "outputId": "0239894d-7602-4cd6-9179-26b8d650230b"
      },
      "outputs": [
        {
          "output_type": "execute_result",
          "data": {
            "text/plain": [
              "{'spreadsheetId': '1z0V4RpuQ3VX8bLIsGpZiYlzgrR_0IWyNNXkndpuqtUA',\n",
              " 'updatedRange': 'Sheet1!A1:X10369',\n",
              " 'updatedRows': 10369,\n",
              " 'updatedColumns': 24,\n",
              " 'updatedCells': 220824}"
            ]
          },
          "metadata": {},
          "execution_count": 34
        }
      ],
      "source": [
        "# loading data to the google sheet without manualy importing\n",
        "import gspread\n",
        "from oauth2client.service_account import ServiceAccountCredentials\n",
        "\n",
        "scope = ['https://spreadsheets.google.com/feeds',\n",
        "         'https://www.googleapis.com/auth/drive']\n",
        "\n",
        "\n",
        "# Verify the path to your credentials file is correct and you have the correct file\n",
        "SF=#json file from google cloud will be given here\n",
        "credentials = ServiceAccountCredentials.from_json_keyfile_name(\n",
        "    SF, scope)\n",
        "\n",
        "\n",
        "gc = gspread.authorize(credentials)\n",
        "\n",
        "sheet = gc.open_by_key('1z0VVX8bLIsGpZiYl')\n",
        "\n",
        "worksheet = sheet.get_worksheet(0)\n",
        "\n",
        "df10 = styled_df.data\n",
        "\n",
        "# Convert timestamp values to strings because this data containing date\n",
        "df10 = df10.applymap(lambda x: x.strftime('%Y-%m-%d %H:%M:%S') if pd.notna(x) and isinstance(x, pd.Timestamp) else (None if pd.isna(x) else x))\n",
        "\n",
        "worksheet.clear()\n",
        "\n",
        "worksheet.update([df10.columns.values.tolist()] + df10.values.tolist())"
      ]
    }
  ],
  "metadata": {
    "colab": {
      "provenance": [],
      "include_colab_link": true
    },
    "kernelspec": {
      "display_name": "Python 3",
      "name": "python3"
    }
  },
  "nbformat": 4,
  "nbformat_minor": 0
}